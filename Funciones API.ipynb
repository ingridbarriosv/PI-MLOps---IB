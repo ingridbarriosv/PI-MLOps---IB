{
 "cells": [
  {
   "cell_type": "markdown",
   "metadata": {},
   "source": [
    "## Funciones API"
   ]
  },
  {
   "cell_type": "code",
   "execution_count": 1,
   "metadata": {},
   "outputs": [],
   "source": [
    "import pandas as pd\n",
    "import json\n",
    "import pyarrow"
   ]
  },
  {
   "cell_type": "markdown",
   "metadata": {},
   "source": [
    "## Developer \n",
    "La función developer debe devolver la cantidad de items y porcentaje de contenido free por año segun la empresa desarrolladora."
   ]
  },
  {
   "cell_type": "code",
   "execution_count": 2,
   "metadata": {},
   "outputs": [
    {
     "data": {
      "text/plain": [
       "[{'Año': 2012, 'Cantidad de Items': 1, 'Contenido Free': '0.0%'},\n",
       " {'Año': 2014, 'Cantidad de Items': 3, 'Contenido Free': '0.0%'},\n",
       " {'Año': 2015, 'Cantidad de Items': 9, 'Contenido Free': '22.22%'},\n",
       " {'Año': 2016, 'Cantidad de Items': 2, 'Contenido Free': '0.0%'},\n",
       " {'Año': 2017, 'Cantidad de Items': 8, 'Contenido Free': '87.5%'}]"
      ]
     },
     "execution_count": 2,
     "metadata": {},
     "output_type": "execute_result"
    }
   ],
   "source": [
    "def developer(dev):\n",
    "    # Se leen los datos y se crea el dataFrame a partir del dataframe total anteriormente modificado\n",
    "    dfGames = pd.read_parquet('DB Steam/steam_games.parquet')\n",
    "    # Se crea un dataFrame filtrado de acuerdo a la empresa desarrolladora, convirtiendo los str de developer a minusculas\n",
    "    dfFiltered =  dfGames[dfGames['developer'].str.lower() == dev.lower()]\n",
    "    # Se guardan los valores del total de juegos y la cantidad de juegos gratuitos agrupados por año\n",
    "    totalApps = dfFiltered.groupby('release_year').size().reset_index(name = 'Cantidad de Items')\n",
    "    # Se borran los valores nulos de la columna 'price' del nuevo dataframe filtrado\n",
    "    dfFiltered = dfFiltered.dropna(subset = ['price'])\n",
    "    # Se filtra dfFiltered para incluir solo los juegos que sean gratuitos por cada año de lanzamiento en un nuevo dataframe llamado freeApps\n",
    "    freeApps = dfFiltered[dfFiltered['price'] == 0].groupby('release_year').size().reset_index(name = 'free_items')\n",
    "    # Se crea el dataFrame resultado con la cantidad de juegos, el porcentaje de los que son gratis, y el año\n",
    "    # Para esto se combinan los dataframes totalApps y freeApps en función de la columna 'release_year'\n",
    "    dfResult = pd.merge(totalApps, freeApps, on = 'release_year', how = 'left').fillna(0)\n",
    "    dfResult.rename(columns = {'release_year': 'Año'}, inplace = True)\n",
    "    # Se saca el porcentaje de contenido free por año\n",
    "    dfResult['Contenido Free'] = ((dfResult['free_items'] / dfResult['Cantidad de Items']) * 100).round(2).astype(str) + '%'\n",
    "    dfResult = dfResult[['Año','Cantidad de Items','Contenido Free']].reset_index(drop = True)\n",
    "    dfResult = dfResult.to_dict(orient = 'records')\n",
    "    return dfResult\n",
    "developer('AMPLITUDE Studios')"
   ]
  },
  {
   "cell_type": "code",
   "execution_count": 3,
   "metadata": {},
   "outputs": [
    {
     "data": {
      "text/plain": [
       "[{'Año': 2018, 'Cantidad de Items': 1, 'Contenido Free': '0.0%'}]"
      ]
     },
     "execution_count": 3,
     "metadata": {},
     "output_type": "execute_result"
    }
   ],
   "source": [
    "developer('Kotoshiro')"
   ]
  },
  {
   "cell_type": "code",
   "execution_count": 4,
   "metadata": {},
   "outputs": [
    {
     "data": {
      "text/plain": [
       "[{'Año': 2018, 'Cantidad de Items': 1, 'Contenido Free': '100.0%'}]"
      ]
     },
     "execution_count": 4,
     "metadata": {},
     "output_type": "execute_result"
    }
   ],
   "source": [
    "developer('Secret Level SRL')"
   ]
  },
  {
   "cell_type": "markdown",
   "metadata": {},
   "source": [
    "## Userdata\n",
    "Debe devolver la cantidad de dinero gastado por el usuario, el porcentaje de recomendación en base a reviews.recommend y cantidad de items."
   ]
  },
  {
   "cell_type": "code",
   "execution_count": 5,
   "metadata": {},
   "outputs": [
    {
     "data": {
      "text/html": [
       "<div>\n",
       "<style scoped>\n",
       "    .dataframe tbody tr th:only-of-type {\n",
       "        vertical-align: middle;\n",
       "    }\n",
       "\n",
       "    .dataframe tbody tr th {\n",
       "        vertical-align: top;\n",
       "    }\n",
       "\n",
       "    .dataframe thead th {\n",
       "        text-align: right;\n",
       "    }\n",
       "</style>\n",
       "<table border=\"1\" class=\"dataframe\">\n",
       "  <thead>\n",
       "    <tr style=\"text-align: right;\">\n",
       "      <th></th>\n",
       "      <th>Usuario</th>\n",
       "      <th>Dinero Gastado</th>\n",
       "      <th>% de recomendación</th>\n",
       "      <th>Cantidad de Items</th>\n",
       "    </tr>\n",
       "  </thead>\n",
       "  <tbody>\n",
       "    <tr>\n",
       "      <th>0</th>\n",
       "      <td>76561198312638244</td>\n",
       "      <td>450.75</td>\n",
       "      <td>100.0%</td>\n",
       "      <td>36</td>\n",
       "    </tr>\n",
       "  </tbody>\n",
       "</table>\n",
       "</div>"
      ],
      "text/plain": [
       "             Usuario  Dinero Gastado % de recomendación  Cantidad de Items\n",
       "0  76561198312638244          450.75             100.0%                 36"
      ]
     },
     "execution_count": 5,
     "metadata": {},
     "output_type": "execute_result"
    }
   ],
   "source": [
    "def userData(userId):\n",
    "    # Se leen los datos y se crean los DataFrames a partir de los formatos parquet que habíamos creado \n",
    "    dfUserRecommend = pd.read_parquet('DB Steam/Reviews_sep_sentiment.parquet')\n",
    "    userItemsDf = pd.read_parquet('DB Steam/items_sep.parquet')\n",
    "    userItemCountDf = pd.read_parquet('DB Steam/items_count.parquet')\n",
    "    dfSteamGamesPrice = pd.read_parquet('DB Steam/GamesPrice.parquet')\n",
    "    # Se crean DataFrames filtrados por usuario\n",
    "    dfUserRecommend =  dfUserRecommend[dfUserRecommend['user_id'] == userId].reset_index(drop = True)\n",
    "    userItemsDf = userItemsDf[userItemsDf['user_id'] == userId].reset_index(drop = True)\n",
    "    # Se combinan los dataframes userItemsDf y dfSteamGamesPrice en función de la columna 'item_id'\n",
    "    userItemsDf = pd.merge(userItemsDf, dfSteamGamesPrice, how = 'left', on = 'item_id')\n",
    "    userItemCountDf = userItemCountDf[userItemCountDf['user_id'] == userId].reset_index(drop = True)\n",
    "    # Se compone el DataFrame de final conteniendo el ID de usuario, el dinero gastado de acuerdo a sus ítems, el porcentaje de recomendación y la cantidad de ítems\n",
    "    resultData = {'Usuario': [userId]}\n",
    "    resultDf = pd.DataFrame(resultData)\n",
    "    # Se crea una nueva columna para calcular el total del dinero gastado \n",
    "    resultDf['Dinero Gastado'] = pd.to_numeric(userItemsDf['price'], errors = 'coerce').sum()\n",
    "    resultDf['% de recomendación'] = ((dfUserRecommend['recommend'].mean()) * 100).round(2).astype(str) + '%'\n",
    "    resultDf['Cantidad de Items'] = userItemCountDf['items_count']\n",
    "    result = resultDf.to_dict(orient = 'records')\n",
    "    return resultDf\n",
    "userData('76561198312638244')"
   ]
  },
  {
   "cell_type": "code",
   "execution_count": 6,
   "metadata": {},
   "outputs": [
    {
     "data": {
      "text/html": [
       "<div>\n",
       "<style scoped>\n",
       "    .dataframe tbody tr th:only-of-type {\n",
       "        vertical-align: middle;\n",
       "    }\n",
       "\n",
       "    .dataframe tbody tr th {\n",
       "        vertical-align: top;\n",
       "    }\n",
       "\n",
       "    .dataframe thead th {\n",
       "        text-align: right;\n",
       "    }\n",
       "</style>\n",
       "<table border=\"1\" class=\"dataframe\">\n",
       "  <thead>\n",
       "    <tr style=\"text-align: right;\">\n",
       "      <th></th>\n",
       "      <th>Usuario</th>\n",
       "      <th>Dinero Gastado</th>\n",
       "      <th>% de recomendación</th>\n",
       "      <th>Cantidad de Items</th>\n",
       "    </tr>\n",
       "  </thead>\n",
       "  <tbody>\n",
       "    <tr>\n",
       "      <th>0</th>\n",
       "      <td>76561197970982479</td>\n",
       "      <td>3424.31</td>\n",
       "      <td>100.0%</td>\n",
       "      <td>277</td>\n",
       "    </tr>\n",
       "  </tbody>\n",
       "</table>\n",
       "</div>"
      ],
      "text/plain": [
       "             Usuario  Dinero Gastado % de recomendación  Cantidad de Items\n",
       "0  76561197970982479         3424.31             100.0%                277"
      ]
     },
     "execution_count": 6,
     "metadata": {},
     "output_type": "execute_result"
    }
   ],
   "source": [
    "userData('76561197970982479')"
   ]
  },
  {
   "cell_type": "markdown",
   "metadata": {},
   "source": [
    "## UserForGenre\n",
    " Debe devolver el usuario que acumula más horas jugadas para el género dado y una lista de la acumulación de horas jugadas por año de lanzamiento."
   ]
  },
  {
   "cell_type": "code",
   "execution_count": 7,
   "metadata": {},
   "outputs": [
    {
     "data": {
      "text/plain": [
       "{'Usuario con más horas jugadas para el género Casual': 'REBAS_AS_F-T',\n",
       " 'Horas totales': [{'Año': 2017, 'Horas jugadas': 0.97},\n",
       "  {'Año': 2016, 'Horas jugadas': 8304.35},\n",
       "  {'Año': 2015, 'Horas jugadas': 6036.68},\n",
       "  {'Año': 2014, 'Horas jugadas': 2039.3700000000001},\n",
       "  {'Año': 2013, 'Horas jugadas': 1799.43},\n",
       "  {'Año': 2012, 'Horas jugadas': 495.36},\n",
       "  {'Año': 2011, 'Horas jugadas': 1353.34},\n",
       "  {'Año': 2010, 'Horas jugadas': 201.1},\n",
       "  {'Año': 2009, 'Horas jugadas': 47.84},\n",
       "  {'Año': 2008, 'Horas jugadas': 20.68},\n",
       "  {'Año': 2007, 'Horas jugadas': 0.0},\n",
       "  {'Año': 2004, 'Horas jugadas': 116.42},\n",
       "  {'Año': 2002, 'Horas jugadas': 0.0},\n",
       "  {'Año': 1999, 'Horas jugadas': 0.0}]}"
      ]
     },
     "execution_count": 7,
     "metadata": {},
     "output_type": "execute_result"
    }
   ],
   "source": [
    "def UserForGenre(genre):\n",
    "    # Se leen los datos y se crea el dataFrame\n",
    "    dfSteamGamesGenres = pd.read_parquet('DB Steam/GamesGenre_sep.parquet')\n",
    "    dfUserItems_sep = pd.read_parquet('DB Steam/items_sep.parquet')\n",
    "    # Se filtra el dataFrame buscando el género solicitado entre los géneros del juego, pasados a minúsculas\n",
    "    dfSteamGamesGenres = dfSteamGamesGenres[dfSteamGamesGenres['genres'].str.lower() == genre.lower()]\n",
    "    # Se combina el dataFrame con los géneros 'dfSteamGamesGenres' al dataFrame que contiene a los usuarios con sus ítems 'dfUserItems_sep'\n",
    "    dfSteamGamesGenres = pd.merge(dfSteamGamesGenres[['item_id','release_year']], dfUserItems_sep, how = 'left', on = 'item_id')\n",
    "    # Se eliminan todas los valores nulos de la columna del tiempo de juego \n",
    "    dfSteamGamesGenres = dfSteamGamesGenres.dropna(subset = 'playtime')\n",
    "    # Se agrupan de acuerdo al ID de usuario teniendo en cuenta el tiempo total de juego y se ordenan de forma descendente por su posición \n",
    "    userId = dfSteamGamesGenres.groupby('user_id')['playtime'].sum().reset_index().sort_values(by = 'playtime',ascending = False).iloc[0,0]\n",
    "    # Se filtra el dataFrame de acuerdo al usuario recuperado, se agrupa conforme al año de lanzamiento de los juegos y se suma el tiempo jugado\n",
    "    dfSteamGamesGenres = dfSteamGamesGenres[dfSteamGamesGenres['user_id'] == userId].groupby('release_year')['playtime'].sum().reset_index().sort_values(by = 'release_year',ascending = False)\n",
    "    # Se hace la transforman los datos y se crea el dataFrame de respuesta\n",
    "    dfSteamGamesGenres.rename(columns = {'release_year': 'Año'}, inplace = True)\n",
    "    dfSteamGamesGenres.rename(columns = {'playtime': 'Horas jugadas'}, inplace = True)\n",
    "    resultPlaytime = dfSteamGamesGenres.to_dict(orient = 'records')\n",
    "    result_userForGenre = {'Usuario con más horas jugadas para el género ' + genre:userId,'Horas totales':resultPlaytime}\n",
    "    return result_userForGenre\n",
    "UserForGenre('Casual')"
   ]
  },
  {
   "cell_type": "markdown",
   "metadata": {},
   "source": [
    "## BestDeveloperYear\n",
    "Devuelve el top 3 de desarrolladores con juegos MÁS recomendados por usuarios para el año dado. (reviews.recommend = True y comentarios positivos)."
   ]
  },
  {
   "cell_type": "code",
   "execution_count": 8,
   "metadata": {},
   "outputs": [
    {
     "data": {
      "text/plain": [
       "[{'Puesto 1': 'Valve'},\n",
       " {'Puesto 2': 'Facepunch Studios'},\n",
       " {'Puesto 3': 'Smartly Dressed Games'}]"
      ]
     },
     "execution_count": 8,
     "metadata": {},
     "output_type": "execute_result"
    }
   ],
   "source": [
    "def BestDeveloperYear(año):\n",
    "    # Se cargan los datos y se crean los dataFrame\n",
    "    dfUserReview = pd.read_parquet('DB Steam/Reviews_sep_sentiment.parquet')\n",
    "    dfGamesBestDev = pd.read_parquet('DB Steam/GamesDevs.parquet')\n",
    "    # Se filtra el dataFrame de acuerdo al año solicitado, descartando los juegos no recomendados, y con análisis de sentimiento neutral o negativo\n",
    "    dfUserReview = dfUserReview[(dfUserReview['recommend'] == True) & \n",
    "                                            (dfUserReview['sentiment_analysis'] == '2') & \n",
    "                                            (dfUserReview['review_year'] == año)]\n",
    "    dfUserReview['review_year'] = dfUserReview['review_year'].astype(int)\n",
    "    # Se agrupan las reseñas de acuedo al ID del juego sumando la cantidad de recomendaciones\n",
    "    dfUserReview = dfUserReview.groupby('item_id')['recommend'].count().reset_index()\n",
    "    # Se crea un dataFrame que contenga el ID del juego, el desarrollador y la suma de recomendaciones\n",
    "    dfGamesBestDev = pd.merge(dfGamesBestDev[['item_id','developer']], dfUserReview, how = 'left', on = 'item_id').sort_values(by = 'recommend', ascending = False)\n",
    "    # Se agrupa de acuerdo al desarrollador y a la suma de recomendaciones\n",
    "    dfGamesBestDev = dfGamesBestDev.groupby('developer')['recommend'].sum().reset_index().sort_values(by = 'recommend', ascending = False)\n",
    "    # Se revisa que el primer valor no sea 0 para descartar años en los que no se tenga registro de las reseñas y se recuperan los tres primeros lugares\n",
    "    if dfGamesBestDev.iloc[1,1]!= 0:\n",
    "        primero = dfGamesBestDev.iloc[0,0]\n",
    "        segundo = dfGamesBestDev.iloc[1,0]\n",
    "        tercero = dfGamesBestDev.iloc[2,0]\n",
    "        resultBestDev = [{'Puesto 1':primero},{'Puesto 2':segundo},{'Puesto 3':tercero}]\n",
    "    else:\n",
    "        resultBestDev = [{'Puesto 1':None},{'Puesto 2':None},{'Puesto 3':None}]\n",
    "    return resultBestDev\n",
    "BestDeveloperYear(2015)"
   ]
  },
  {
   "cell_type": "markdown",
   "metadata": {},
   "source": [
    "## DeveloperReviewsAnalysis\n",
    "Según el desarrollador, se devuelve un diccionario con el nombre del desarrollador como llave y una lista con la cantidad total de registros de reseñas de usuarios que se encuentren categorizados con un análisis de sentimiento como valor positivo o negativo."
   ]
  },
  {
   "cell_type": "code",
   "execution_count": 9,
   "metadata": {},
   "outputs": [
    {
     "data": {
      "text/plain": [
       "{'Facepunch Studios': ['Negative = 345', 'Positive = 1621']}"
      ]
     },
     "execution_count": 9,
     "metadata": {},
     "output_type": "execute_result"
    }
   ],
   "source": [
    "def DeveloperReviewsAnalysis(dev):\n",
    "    # Se cargan los datos y se crean los DataFrame\n",
    "    dfUserReview = pd.read_parquet('DB Steam/Reviews_sep_sentiment.parquet')\n",
    "    dfGamesDev = pd.read_parquet('DB Steam/GamesDevs.parquet')\n",
    "    # Se filtra el DataFrame de desarrolladores de acuerdo al desarrollador solicitado\n",
    "    dfGamesDev = dfGamesDev[dfGamesDev['developer'].str.lower() == dev.lower()]\n",
    "    # Se agrupa el DataFrame de reseñas de acuerdo al ID del juego agregando una columna para la suma de comentarios positivos y otra para la de negativos\n",
    "    dfUserReview = dfUserReview.groupby('item_id')['sentiment_analysis'].agg([('positive', lambda x: (x == '2').sum()),\n",
    "        ('negative', lambda x: (x == '0').sum())]).reset_index()\n",
    "    # Se crea el DataFrame de respuesta\n",
    "    dfGamesDev = pd.merge(dfGamesDev, dfUserReview, how = 'left', on = 'item_id')\n",
    "    dfGamesDev = dfGamesDev.groupby('developer')[['positive','negative']].sum().reset_index()\n",
    "    positive = dfGamesDev.iloc[0,1].astype(int).astype(str)\n",
    "    negative = dfGamesDev.iloc[0,2].astype(int).astype(str)\n",
    "    resultDevRev = {dfGamesDev.iloc[0,0]:['Negative = ' + negative,'Positive = ' + positive]}\n",
    "    return resultDevRev\n",
    "DeveloperReviewsAnalysis('Facepunch Studios')"
   ]
  },
  {
   "cell_type": "markdown",
   "metadata": {},
   "source": [
    "## Recommend Item\n",
    "Esta función genera el diccionario de la recomendación que se haría a los usuarios dependiendo del item_id en cuestión."
   ]
  },
  {
   "cell_type": "code",
   "execution_count": 27,
   "metadata": {},
   "outputs": [
    {
     "ename": "KeyError",
     "evalue": "'0RBITALIS'",
     "output_type": "error",
     "traceback": [
      "\u001b[0;31m---------------------------------------------------------------------------\u001b[0m",
      "\u001b[0;31mKeyError\u001b[0m                                  Traceback (most recent call last)",
      "\u001b[0;32m/var/folders/47/k8p8b34120x38zvvxtyv0l6c0000gn/T/ipykernel_1154/2887910306.py\u001b[0m in \u001b[0;36m?\u001b[0;34m()\u001b[0m\n\u001b[1;32m      7\u001b[0m     \u001b[0;32mfor\u001b[0m \u001b[0mitem\u001b[0m \u001b[0;32min\u001b[0m \u001b[0mdfItemSim\u001b[0m\u001b[0;34m.\u001b[0m\u001b[0msort_values\u001b[0m\u001b[0;34m(\u001b[0m\u001b[0mby\u001b[0m \u001b[0;34m=\u001b[0m \u001b[0mitemId\u001b[0m\u001b[0;34m,\u001b[0m \u001b[0mascending\u001b[0m \u001b[0;34m=\u001b[0m \u001b[0;32mFalse\u001b[0m\u001b[0;34m)\u001b[0m\u001b[0;34m.\u001b[0m\u001b[0mindex\u001b[0m\u001b[0;34m[\u001b[0m\u001b[0;36m1\u001b[0m\u001b[0;34m:\u001b[0m\u001b[0;36m6\u001b[0m\u001b[0;34m]\u001b[0m\u001b[0;34m:\u001b[0m\u001b[0;34m\u001b[0m\u001b[0;34m\u001b[0m\u001b[0m\n\u001b[1;32m      8\u001b[0m         \u001b[0mresult\u001b[0m\u001b[0;34m[\u001b[0m\u001b[0mstr\u001b[0m\u001b[0;34m(\u001b[0m\u001b[0mcounter\u001b[0m\u001b[0;34m)\u001b[0m\u001b[0;34m]\u001b[0m \u001b[0;34m=\u001b[0m \u001b[0mitem\u001b[0m\u001b[0;34m\u001b[0m\u001b[0;34m\u001b[0m\u001b[0m\n\u001b[1;32m      9\u001b[0m         \u001b[0mcounter\u001b[0m \u001b[0;34m+=\u001b[0m\u001b[0;36m1\u001b[0m\u001b[0;34m\u001b[0m\u001b[0;34m\u001b[0m\u001b[0m\n\u001b[1;32m     10\u001b[0m     \u001b[0;32mreturn\u001b[0m \u001b[0mresult\u001b[0m\u001b[0;34m\u001b[0m\u001b[0;34m\u001b[0m\u001b[0m\n\u001b[0;32m---> 11\u001b[0;31m \u001b[0mRecommendItem\u001b[0m\u001b[0;34m(\u001b[0m\u001b[0;34m'0RBITALIS'\u001b[0m\u001b[0;34m)\u001b[0m\u001b[0;34m\u001b[0m\u001b[0;34m\u001b[0m\u001b[0m\n\u001b[0m",
      "\u001b[0;32m/var/folders/47/k8p8b34120x38zvvxtyv0l6c0000gn/T/ipykernel_1154/2887910306.py\u001b[0m in \u001b[0;36m?\u001b[0;34m(itemId)\u001b[0m\n\u001b[1;32m      3\u001b[0m     \u001b[0mdfItemSim\u001b[0m \u001b[0;34m=\u001b[0m \u001b[0mpd\u001b[0m\u001b[0;34m.\u001b[0m\u001b[0mread_parquet\u001b[0m\u001b[0;34m(\u001b[0m\u001b[0;34m'DB Steam/item_Sim.parquet'\u001b[0m\u001b[0;34m)\u001b[0m\u001b[0;34m\u001b[0m\u001b[0;34m\u001b[0m\u001b[0m\n\u001b[1;32m      4\u001b[0m     \u001b[0mcounter\u001b[0m \u001b[0;34m=\u001b[0m \u001b[0;36m1\u001b[0m\u001b[0;34m\u001b[0m\u001b[0;34m\u001b[0m\u001b[0m\n\u001b[1;32m      5\u001b[0m     \u001b[0mresult\u001b[0m \u001b[0;34m=\u001b[0m \u001b[0;34m{\u001b[0m\u001b[0;34m'Aquí hay juegos similares a'\u001b[0m\u001b[0;34m:\u001b[0m \u001b[0mitemId\u001b[0m\u001b[0;34m,\u001b[0m\u001b[0;34m'1'\u001b[0m\u001b[0;34m:\u001b[0m\u001b[0;34m''\u001b[0m\u001b[0;34m,\u001b[0m\u001b[0;34m'2'\u001b[0m\u001b[0;34m:\u001b[0m\u001b[0;34m''\u001b[0m\u001b[0;34m,\u001b[0m\u001b[0;34m'3'\u001b[0m\u001b[0;34m:\u001b[0m\u001b[0;34m''\u001b[0m\u001b[0;34m,\u001b[0m\u001b[0;34m'4'\u001b[0m\u001b[0;34m:\u001b[0m\u001b[0;34m''\u001b[0m\u001b[0;34m,\u001b[0m\u001b[0;34m'5'\u001b[0m\u001b[0;34m:\u001b[0m\u001b[0;34m''\u001b[0m\u001b[0;34m}\u001b[0m\u001b[0;34m\u001b[0m\u001b[0;34m\u001b[0m\u001b[0m\n\u001b[1;32m      6\u001b[0m     \u001b[0;31m# Se buscan los ítems con mayor similitud y se añaden al resultado\u001b[0m\u001b[0;34m\u001b[0m\u001b[0;34m\u001b[0m\u001b[0m\n\u001b[0;32m----> 7\u001b[0;31m     \u001b[0;32mfor\u001b[0m \u001b[0mitem\u001b[0m \u001b[0;32min\u001b[0m \u001b[0mdfItemSim\u001b[0m\u001b[0;34m.\u001b[0m\u001b[0msort_values\u001b[0m\u001b[0;34m(\u001b[0m\u001b[0mby\u001b[0m \u001b[0;34m=\u001b[0m \u001b[0mitemId\u001b[0m\u001b[0;34m,\u001b[0m \u001b[0mascending\u001b[0m \u001b[0;34m=\u001b[0m \u001b[0;32mFalse\u001b[0m\u001b[0;34m)\u001b[0m\u001b[0;34m.\u001b[0m\u001b[0mindex\u001b[0m\u001b[0;34m[\u001b[0m\u001b[0;36m1\u001b[0m\u001b[0;34m:\u001b[0m\u001b[0;36m6\u001b[0m\u001b[0;34m]\u001b[0m\u001b[0;34m:\u001b[0m\u001b[0;34m\u001b[0m\u001b[0;34m\u001b[0m\u001b[0m\n\u001b[0m\u001b[1;32m      8\u001b[0m         \u001b[0mresult\u001b[0m\u001b[0;34m[\u001b[0m\u001b[0mstr\u001b[0m\u001b[0;34m(\u001b[0m\u001b[0mcounter\u001b[0m\u001b[0;34m)\u001b[0m\u001b[0;34m]\u001b[0m \u001b[0;34m=\u001b[0m \u001b[0mitem\u001b[0m\u001b[0;34m\u001b[0m\u001b[0;34m\u001b[0m\u001b[0m\n\u001b[1;32m      9\u001b[0m         \u001b[0mcounter\u001b[0m \u001b[0;34m+=\u001b[0m\u001b[0;36m1\u001b[0m\u001b[0;34m\u001b[0m\u001b[0;34m\u001b[0m\u001b[0m\n\u001b[1;32m     10\u001b[0m     \u001b[0;32mreturn\u001b[0m \u001b[0mresult\u001b[0m\u001b[0;34m\u001b[0m\u001b[0;34m\u001b[0m\u001b[0m\n",
      "\u001b[0;32m/Library/Frameworks/Python.framework/Versions/3.12/lib/python3.12/site-packages/pandas/core/frame.py\u001b[0m in \u001b[0;36m?\u001b[0;34m(self, by, axis, ascending, inplace, kind, na_position, ignore_index, key)\u001b[0m\n\u001b[1;32m   7169\u001b[0m             \u001b[0;34m)\u001b[0m\u001b[0;34m\u001b[0m\u001b[0;34m\u001b[0m\u001b[0m\n\u001b[1;32m   7170\u001b[0m         \u001b[0;32melif\u001b[0m \u001b[0mlen\u001b[0m\u001b[0;34m(\u001b[0m\u001b[0mby\u001b[0m\u001b[0;34m)\u001b[0m\u001b[0;34m:\u001b[0m\u001b[0;34m\u001b[0m\u001b[0;34m\u001b[0m\u001b[0m\n\u001b[1;32m   7171\u001b[0m             \u001b[0;31m# len(by) == 1\u001b[0m\u001b[0;34m\u001b[0m\u001b[0;34m\u001b[0m\u001b[0m\n\u001b[1;32m   7172\u001b[0m \u001b[0;34m\u001b[0m\u001b[0m\n\u001b[0;32m-> 7173\u001b[0;31m             \u001b[0mk\u001b[0m \u001b[0;34m=\u001b[0m \u001b[0mself\u001b[0m\u001b[0;34m.\u001b[0m\u001b[0m_get_label_or_level_values\u001b[0m\u001b[0;34m(\u001b[0m\u001b[0mby\u001b[0m\u001b[0;34m[\u001b[0m\u001b[0;36m0\u001b[0m\u001b[0;34m]\u001b[0m\u001b[0;34m,\u001b[0m \u001b[0maxis\u001b[0m\u001b[0;34m=\u001b[0m\u001b[0maxis\u001b[0m\u001b[0;34m)\u001b[0m\u001b[0;34m\u001b[0m\u001b[0;34m\u001b[0m\u001b[0m\n\u001b[0m\u001b[1;32m   7174\u001b[0m \u001b[0;34m\u001b[0m\u001b[0m\n\u001b[1;32m   7175\u001b[0m             \u001b[0;31m# need to rewrap column in Series to apply key function\u001b[0m\u001b[0;34m\u001b[0m\u001b[0;34m\u001b[0m\u001b[0m\n\u001b[1;32m   7176\u001b[0m             \u001b[0;32mif\u001b[0m \u001b[0mkey\u001b[0m \u001b[0;32mis\u001b[0m \u001b[0;32mnot\u001b[0m \u001b[0;32mNone\u001b[0m\u001b[0;34m:\u001b[0m\u001b[0;34m\u001b[0m\u001b[0;34m\u001b[0m\u001b[0m\n",
      "\u001b[0;32m/Library/Frameworks/Python.framework/Versions/3.12/lib/python3.12/site-packages/pandas/core/generic.py\u001b[0m in \u001b[0;36m?\u001b[0;34m(self, key, axis)\u001b[0m\n\u001b[1;32m   1906\u001b[0m             \u001b[0mvalues\u001b[0m \u001b[0;34m=\u001b[0m \u001b[0mself\u001b[0m\u001b[0;34m.\u001b[0m\u001b[0mxs\u001b[0m\u001b[0;34m(\u001b[0m\u001b[0mkey\u001b[0m\u001b[0;34m,\u001b[0m \u001b[0maxis\u001b[0m\u001b[0;34m=\u001b[0m\u001b[0mother_axes\u001b[0m\u001b[0;34m[\u001b[0m\u001b[0;36m0\u001b[0m\u001b[0;34m]\u001b[0m\u001b[0;34m)\u001b[0m\u001b[0;34m.\u001b[0m\u001b[0m_values\u001b[0m\u001b[0;34m\u001b[0m\u001b[0;34m\u001b[0m\u001b[0m\n\u001b[1;32m   1907\u001b[0m         \u001b[0;32melif\u001b[0m \u001b[0mself\u001b[0m\u001b[0;34m.\u001b[0m\u001b[0m_is_level_reference\u001b[0m\u001b[0;34m(\u001b[0m\u001b[0mkey\u001b[0m\u001b[0;34m,\u001b[0m \u001b[0maxis\u001b[0m\u001b[0;34m=\u001b[0m\u001b[0maxis\u001b[0m\u001b[0;34m)\u001b[0m\u001b[0;34m:\u001b[0m\u001b[0;34m\u001b[0m\u001b[0;34m\u001b[0m\u001b[0m\n\u001b[1;32m   1908\u001b[0m             \u001b[0mvalues\u001b[0m \u001b[0;34m=\u001b[0m \u001b[0mself\u001b[0m\u001b[0;34m.\u001b[0m\u001b[0maxes\u001b[0m\u001b[0;34m[\u001b[0m\u001b[0maxis\u001b[0m\u001b[0;34m]\u001b[0m\u001b[0;34m.\u001b[0m\u001b[0mget_level_values\u001b[0m\u001b[0;34m(\u001b[0m\u001b[0mkey\u001b[0m\u001b[0;34m)\u001b[0m\u001b[0;34m.\u001b[0m\u001b[0m_values\u001b[0m\u001b[0;34m\u001b[0m\u001b[0;34m\u001b[0m\u001b[0m\n\u001b[1;32m   1909\u001b[0m         \u001b[0;32melse\u001b[0m\u001b[0;34m:\u001b[0m\u001b[0;34m\u001b[0m\u001b[0;34m\u001b[0m\u001b[0m\n\u001b[0;32m-> 1910\u001b[0;31m             \u001b[0;32mraise\u001b[0m \u001b[0mKeyError\u001b[0m\u001b[0;34m(\u001b[0m\u001b[0mkey\u001b[0m\u001b[0;34m)\u001b[0m\u001b[0;34m\u001b[0m\u001b[0;34m\u001b[0m\u001b[0m\n\u001b[0m\u001b[1;32m   1911\u001b[0m \u001b[0;34m\u001b[0m\u001b[0m\n\u001b[1;32m   1912\u001b[0m         \u001b[0;31m# Check for duplicates\u001b[0m\u001b[0;34m\u001b[0m\u001b[0;34m\u001b[0m\u001b[0m\n\u001b[1;32m   1913\u001b[0m         \u001b[0;32mif\u001b[0m \u001b[0mvalues\u001b[0m\u001b[0;34m.\u001b[0m\u001b[0mndim\u001b[0m \u001b[0;34m>\u001b[0m \u001b[0;36m1\u001b[0m\u001b[0;34m:\u001b[0m\u001b[0;34m\u001b[0m\u001b[0;34m\u001b[0m\u001b[0m\n",
      "\u001b[0;31mKeyError\u001b[0m: '0RBITALIS'"
     ]
    }
   ],
   "source": [
    "def RecommendItem(itemId):\n",
    "    # Se cargan los datos y se crea el dataFrame\n",
    "    dfItemSim = pd.read_parquet('DB Steam/item_Sim.parquet') \n",
    "    counter = 1\n",
    "    result = {'Aquí hay juegos similares a': itemId,'1':'','2':'','3':'','4':'','5':''}\n",
    "    # Se buscan los ítems con mayor similitud y se añaden al resultado\n",
    "    for item in dfItemSim.sort_values(by = itemId, ascending = False).index[1:6]:\n",
    "        result[str(counter)] = item\n",
    "        counter +=1\n",
    "    return result\n",
    "RecommendItem('0RBITALIS')"
   ]
  }
 ],
 "metadata": {
  "kernelspec": {
   "display_name": "Python 3",
   "language": "python",
   "name": "python3"
  },
  "language_info": {
   "codemirror_mode": {
    "name": "ipython",
    "version": 3
   },
   "file_extension": ".py",
   "mimetype": "text/x-python",
   "name": "python",
   "nbconvert_exporter": "python",
   "pygments_lexer": "ipython3",
   "version": "3.12.2"
  }
 },
 "nbformat": 4,
 "nbformat_minor": 2
}
